{
  "nbformat": 4,
  "nbformat_minor": 0,
  "metadata": {
    "colab": {
      "provenance": []
    },
    "kernelspec": {
      "name": "python3",
      "display_name": "Python 3"
    },
    "language_info": {
      "name": "python"
    }
  },
  "cells": [
    {
      "cell_type": "markdown",
      "source": [
        "Nilay Özcan 20200305027\n",
        "Sena Gümüştekin 20200305013"
      ],
      "metadata": {
        "id": "C1TjRGwRCFuM"
      }
    },
    {
      "cell_type": "markdown",
      "source": [
        "1. Setup of Spark and Java Environment"
      ],
      "metadata": {
        "id": "ERU2a28C6ut6"
      }
    },
    {
      "cell_type": "markdown",
      "source": [
        "This code installs Apache Spark (version 3.5.4) and PySpark, sets up the required Java environment (OpenJDK 11), and prepares the system for Spark-based data processing. It also includes the findspark library to integrate PySpark with Python environments."
      ],
      "metadata": {
        "id": "Z3S-JTUU_jCS"
      }
    },
    {
      "cell_type": "code",
      "execution_count": 1,
      "metadata": {
        "colab": {
          "base_uri": "https://localhost:8080/"
        },
        "id": "vRXqRUg76rjz",
        "outputId": "74d1601f-9bf7-474f-9ad7-6647ff99fb9a"
      },
      "outputs": [
        {
          "output_type": "stream",
          "name": "stdout",
          "text": [
            "--2024-12-27 08:10:02--  https://archive.apache.org/dist/spark/spark-3.5.4/spark-3.5.4-bin-hadoop3.tgz\n",
            "Resolving archive.apache.org (archive.apache.org)... 65.108.204.189, 2a01:4f9:1a:a084::2\n",
            "Connecting to archive.apache.org (archive.apache.org)|65.108.204.189|:443... connected.\n",
            "HTTP request sent, awaiting response... 200 OK\n",
            "Length: 400879762 (382M) [application/x-gzip]\n",
            "Saving to: ‘spark-3.5.4-bin-hadoop3.tgz’\n",
            "\n",
            "spark-3.5.4-bin-had 100%[===================>] 382.31M  39.1MB/s    in 10s     \n",
            "\n",
            "2024-12-27 08:10:13 (36.8 MB/s) - ‘spark-3.5.4-bin-hadoop3.tgz’ saved [400879762/400879762]\n",
            "\n",
            "Collecting findspark\n",
            "  Downloading findspark-2.0.1-py2.py3-none-any.whl.metadata (352 bytes)\n",
            "Downloading findspark-2.0.1-py2.py3-none-any.whl (4.4 kB)\n",
            "Installing collected packages: findspark\n",
            "Successfully installed findspark-2.0.1\n",
            "Requirement already satisfied: pyspark in /usr/local/lib/python3.10/dist-packages (3.5.3)\n",
            "Requirement already satisfied: py4j==0.10.9.7 in /usr/local/lib/python3.10/dist-packages (from pyspark) (0.10.9.7)\n"
          ]
        }
      ],
      "source": [
        "!wget https://archive.apache.org/dist/spark/spark-3.5.4/spark-3.5.4-bin-hadoop3.tgz -O spark-3.5.4-bin-hadoop3.tgz\n",
        "!pip install findspark\n",
        "!tar xf spark-3.5.4-bin-hadoop3.tgz\n",
        "!apt-get install openjdk-11-jdk-headless -qq > /dev/null\n",
        "!pip install pyspark\n"
      ]
    },
    {
      "cell_type": "markdown",
      "source": [
        "2. Defining Environment Variables"
      ],
      "metadata": {
        "id": "hxPGW0NW6y1j"
      }
    },
    {
      "cell_type": "markdown",
      "source": [
        "This code sets environment variables for Java (`JAVA_HOME`) and Spark (`SPARK_HOME`) to ensure they are properly configured. It also uses `findspark` to initialize and integrate PySpark with the Python environment."
      ],
      "metadata": {
        "id": "qwbTYFO1_yRM"
      }
    },
    {
      "cell_type": "code",
      "source": [
        "import os\n",
        "\n",
        "os.environ[\"JAVA_HOME\"] = \"/usr/lib/jvm/java-11-openjdk-amd64\"\n",
        "os.environ[\"SPARK_HOME\"] = \"/content/spark-3.5.4-bin-hadoop3\"\n",
        "os.environ[\"PATH\"] += \":/usr/lib/jvm/java-11-openjdk-amd64/bin\"\n",
        "\n",
        "import findspark\n",
        "findspark.init()\n"
      ],
      "metadata": {
        "id": "l2oBLhx461dj"
      },
      "execution_count": 2,
      "outputs": []
    },
    {
      "cell_type": "markdown",
      "source": [
        "3. Starting SparkContext and SparkSession"
      ],
      "metadata": {
        "id": "H0pfjF0d63Vy"
      }
    },
    {
      "cell_type": "markdown",
      "source": [
        "This code sets up a Spark session named \"WordCount\" to run Spark jobs on your local machine using all available CPU cores. It also creates a SparkContext (sc), which is the entry point for working with Spark's core functionalities."
      ],
      "metadata": {
        "id": "zoaggIhmAFmt"
      }
    },
    {
      "cell_type": "code",
      "source": [
        "from pyspark.sql import SparkSession\n",
        "\n",
        "spark = SparkSession.builder.master(\"local[*]\").appName(\"WordCount\").getOrCreate()\n",
        "sc = spark.sparkContext\n"
      ],
      "metadata": {
        "id": "pU111MQh6581"
      },
      "execution_count": 3,
      "outputs": []
    },
    {
      "cell_type": "markdown",
      "source": [
        "4. Downloading and Uploading the Dataset"
      ],
      "metadata": {
        "id": "HTT6QoB47Pr3"
      }
    },
    {
      "cell_type": "code",
      "source": [
        "!wget https://www.gutenberg.org/files/1342/1342-0.txt -O pride_and_prejudice.txt\n"
      ],
      "metadata": {
        "colab": {
          "base_uri": "https://localhost:8080/"
        },
        "id": "pNSGXfcL7Re3",
        "outputId": "eda97702-2b8d-4212-f9d9-88d1ca5af6e8"
      },
      "execution_count": 4,
      "outputs": [
        {
          "output_type": "stream",
          "name": "stdout",
          "text": [
            "--2024-12-27 08:10:45--  https://www.gutenberg.org/files/1342/1342-0.txt\n",
            "Resolving www.gutenberg.org (www.gutenberg.org)... 152.19.134.47, 2610:28:3090:3000:0:bad:cafe:47\n",
            "Connecting to www.gutenberg.org (www.gutenberg.org)|152.19.134.47|:443... connected.\n",
            "HTTP request sent, awaiting response... 200 OK\n",
            "Length: 752575 (735K) [text/plain]\n",
            "Saving to: ‘pride_and_prejudice.txt’\n",
            "\n",
            "pride_and_prejudice 100%[===================>] 734.94K  1.37MB/s    in 0.5s    \n",
            "\n",
            "2024-12-27 08:10:46 (1.37 MB/s) - ‘pride_and_prejudice.txt’ saved [752575/752575]\n",
            "\n"
          ]
        }
      ]
    },
    {
      "cell_type": "code",
      "source": [
        "text_data = sc.textFile(\"pride_and_prejudice.txt\")\n"
      ],
      "metadata": {
        "id": "Ltrt-02f7Sr0"
      },
      "execution_count": 5,
      "outputs": []
    },
    {
      "cell_type": "markdown",
      "source": [
        "5. Word Count and Frequency Analysis\n",
        "\n",
        "\n",
        "\n",
        "\n"
      ],
      "metadata": {
        "id": "FV_6QpIR7VQS"
      }
    },
    {
      "cell_type": "markdown",
      "source": [
        "This code processes a dataset (text_data) to count word occurrences:\n",
        "Splits each line into words.\n",
        "Transforms each word into lowercase, removes extra spaces, and maps it with a count of 1.\n",
        "Filters out empty strings.\n",
        "Aggregates word counts using reduceByKey.\n",
        "Sorts the words by their counts in descending order.\n",
        "Finally, it prints the top 20 words along with their counts."
      ],
      "metadata": {
        "id": "y3pVWcG9AUvQ"
      }
    },
    {
      "cell_type": "code",
      "source": [
        "sorted_word_counts = (text_data\n",
        "                      .flatMap(lambda line: line.split(\" \"))\n",
        "                      .map(lambda word: (word.lower().strip(), 1))\n",
        "                      .filter(lambda word_count: word_count[0])  # Boş stringleri çıkar\n",
        "                      .reduceByKey(lambda a, b: a + b)\n",
        "                      .sortBy(lambda x: x[1], ascending=False))\n",
        "\n",
        "for word, count in sorted_word_counts.take(20):\n",
        "    print(f\"{word}: {count}\")\n"
      ],
      "metadata": {
        "colab": {
          "base_uri": "https://localhost:8080/"
        },
        "id": "Kxv8StAU7WkW",
        "outputId": "ca34cd62-6719-45ee-cee4-2240505977d0"
      },
      "execution_count": 6,
      "outputs": [
        {
          "output_type": "stream",
          "name": "stdout",
          "text": [
            "the: 4615\n",
            "to: 4247\n",
            "of: 3797\n",
            "and: 3463\n",
            "a: 2004\n",
            "her: 1988\n",
            "in: 1942\n",
            "was: 1816\n",
            "i: 1764\n",
            "she: 1645\n",
            "that: 1467\n",
            "not: 1424\n",
            "his: 1271\n",
            "he: 1263\n",
            "be: 1214\n",
            "as: 1210\n",
            "it: 1185\n",
            "had: 1156\n",
            "with: 1068\n",
            "you: 1062\n"
          ]
        }
      ]
    },
    {
      "cell_type": "markdown",
      "source": [
        "6. Visualization: Most Frequently Used Words"
      ],
      "metadata": {
        "id": "_JJtw8SUMTsF"
      }
    },
    {
      "cell_type": "markdown",
      "source": [
        "This code visualizes the top 10 most frequent words from the sorted_word_counts results:\n",
        "Extracts the top 10 words and their frequencies using take and formats them with Counter.\n",
        "Creates a bar chart with matplotlib.pyplot, displaying the words on the x-axis and their frequencies on the y-axis.\n",
        "Customizes the plot with labels, a title, rotated x-axis labels, and a tight layout for better readability.\n",
        "Displays the chart using plt.show()."
      ],
      "metadata": {
        "id": "VW16zDaZMWxy"
      }
    },
    {
      "cell_type": "code",
      "source": [
        "import matplotlib.pyplot as plt\n",
        "from collections import Counter\n",
        "\n",
        "word_count_list = sorted_word_counts.take(10)\n",
        "top_words = Counter(dict(word_count_list)).most_common(10)\n",
        "\n",
        "words, counts = zip(*top_words)\n",
        "\n",
        "plt.figure(figsize=(10, 6))\n",
        "plt.bar(words, counts, color='skyblue')\n",
        "plt.xlabel(\"Words\", fontsize=12)\n",
        "plt.ylabel(\"Frequency\", fontsize=12)\n",
        "plt.title(\"Top 10 Most Frequent Words\", fontsize=14)\n",
        "plt.xticks(rotation=45, fontsize=10)\n",
        "plt.tight_layout()\n",
        "plt.show()\n"
      ],
      "metadata": {
        "colab": {
          "base_uri": "https://localhost:8080/",
          "height": 606
        },
        "outputId": "83ed3beb-d60e-4597-8fd4-fbe19b08a38b",
        "id": "Y9vLcFskMbpH"
      },
      "execution_count": null,
      "outputs": [
        {
          "output_type": "display_data",
          "data": {
            "text/plain": [
              "<Figure size 1000x600 with 1 Axes>"
            ],
            "image/png": "[encoded data removed]"
          },
          "metadata": {}
        }
      ]
    },
    {
      "cell_type": "markdown",
      "source": [
        "7. Displaying the First 10 Words from the Text"
      ],
      "metadata": {
        "id": "KsyqjwkHFzbJ"
      }
    },
    {
      "cell_type": "markdown",
      "source": [
        "This code splits the input text into words using flatMap and retrieves the first 10 words from the resulting RDD using the take(10) function. It then prints these words to give a preview of the text data. This step helps in inspecting the initial words before proceeding with further analysis or processing."
      ],
      "metadata": {
        "id": "wuX1fTlIF2-v"
      }
    },
    {
      "cell_type": "code",
      "source": [
        "words = text_data.flatMap(lambda line: line.split(\" \"))\n",
        "print(words.take(10))"
      ],
      "metadata": {
        "colab": {
          "base_uri": "https://localhost:8080/"
        },
        "id": "Vk6nPkwlF2Ak",
        "outputId": "69b2f130-254b-4653-8bf8-51329f8c858e"
      },
      "execution_count": 16,
      "outputs": [
        {
          "output_type": "stream",
          "name": "stdout",
          "text": [
            "['***', 'START', 'OF', 'THE', 'PROJECT', 'GUTENBERG', 'EBOOK', '1342', '***', '']\n"
          ]
        }
      ]
    },
    {
      "cell_type": "markdown",
      "source": [
        "8. Displaying the First 10 Key-Value Pairs (Word and Count)"
      ],
      "metadata": {
        "id": "w5hMq1NFJXZ1"
      }
    },
    {
      "cell_type": "markdown",
      "source": [
        "This code maps each word from the words RDD to a key-value pair, where the key is the word in lowercase, and the value is 1. It then retrieves and prints the first 10 key-value pairs using the take(10) function. This step shows a preview of the word count mapping, helping to inspect how the words are being processed before further aggregation."
      ],
      "metadata": {
        "id": "RU7joS5nJXP7"
      }
    },
    {
      "cell_type": "code",
      "source": [
        "word_pairs = words.map(lambda word: (word.lower(), 1))\n",
        "print(word_pairs.take(10))"
      ],
      "metadata": {
        "colab": {
          "base_uri": "https://localhost:8080/"
        },
        "id": "wVMIGf0jJepn",
        "outputId": "5a3f5c76-eade-4ced-9956-dd26532f077b"
      },
      "execution_count": 17,
      "outputs": [
        {
          "output_type": "stream",
          "name": "stdout",
          "text": [
            "[('***', 1), ('start', 1), ('of', 1), ('the', 1), ('project', 1), ('gutenberg', 1), ('ebook', 1), ('1342', 1), ('***', 1), ('', 1)]\n"
          ]
        }
      ]
    },
    {
      "cell_type": "markdown",
      "source": [
        "9. Average Sentence Length Analysis"
      ],
      "metadata": {
        "id": "ZSTEImyC7fbT"
      }
    },
    {
      "cell_type": "markdown",
      "source": [
        "This code calculates the average sentence length in terms of word count:\n",
        "Splits the text into individual sentences by splitting at periods (.).\n",
        "Maps each sentence to its word count using len(sentence.split()).\n",
        "Counts the total number of sentences with count().\n",
        "Sums the total number of words using reduce.\n",
        "Calculates the average sentence length by dividing the total word count by the total sentence count.\n",
        "Prints the average sentence length in words, formatted to two decimal places."
      ],
      "metadata": {
        "id": "bZyMoEStAxae"
      }
    },
    {
      "cell_type": "code",
      "source": [
        "sentences = text_data.flatMap(lambda line: line.split('.'))\n",
        "sentence_lengths = sentences.map(lambda sentence: len(sentence.split()))\n",
        "\n",
        "total_sentences = sentence_lengths.count()\n",
        "total_words = sentence_lengths.reduce(lambda a, b: a + b)\n",
        "avg_sentence_length = total_words / total_sentences\n",
        "\n",
        "print(f\"Average Sentence Length: {avg_sentence_length:.2f} words\")\n"
      ],
      "metadata": {
        "colab": {
          "base_uri": "https://localhost:8080/"
        },
        "id": "ZdQdm87U7gyf",
        "outputId": "9abd16c4-02b6-40cf-8103-f201e3ee8711"
      },
      "execution_count": 10,
      "outputs": [
        {
          "output_type": "stream",
          "name": "stdout",
          "text": [
            "Average Sentence Length: 6.12 words\n"
          ]
        }
      ]
    },
    {
      "cell_type": "markdown",
      "source": [
        "10. Sentiment Analysis"
      ],
      "metadata": {
        "id": "ub6ruzEw7i52"
      }
    },
    {
      "cell_type": "markdown",
      "source": [
        "This code performs sentiment analysis on a list of words:\n",
        "Filters the words that are present in the sentiment_dict (which maps words to sentiments).\n",
        "Maps each word to its corresponding sentiment and assigns a count of 1.\n",
        "Aggregates the counts of each sentiment using reduceByKey.\n",
        "Collects the results and prints the sentiment counts in a readable format, with each sentiment capitalized."
      ],
      "metadata": {
        "id": "z234GYX_Bh6W"
      }
    },
    {
      "cell_type": "code",
      "source": [
        "words = sc.parallelize(['happy', 'sad', 'joy', 'love', 'angry', 'okay', 'fine', 'hate', 'neutral'])\n",
        "\n",
        "sentiment_dict = {\n",
        "    'happy': 'positive', 'joy': 'positive', 'love': 'positive',\n",
        "    'sad': 'negative', 'angry': 'negative', 'hate': 'negative',\n",
        "    'neutral': 'neutral', 'okay': 'neutral', 'fine': 'neutral'\n",
        "}\n",
        "\n",
        "sentiment_counts = words.filter(lambda word: word in sentiment_dict.keys()) \\\n",
        "    .map(lambda word: (sentiment_dict[word], 1)) \\\n",
        "    .reduceByKey(lambda a, b: a + b) \\\n",
        "    .collect()\n",
        "\n",
        "print(\"Sentiment Analysis Results:\")\n",
        "for sentiment, count in sentiment_counts:\n",
        "    print(f\"{sentiment.capitalize()}: {count}\")\n"
      ],
      "metadata": {
        "colab": {
          "base_uri": "https://localhost:8080/"
        },
        "id": "pjsBNyOz7kih",
        "outputId": "c6a6fea3-cf3b-4e6f-cd98-b29f5f1ccdfe"
      },
      "execution_count": 11,
      "outputs": [
        {
          "output_type": "stream",
          "name": "stdout",
          "text": [
            "Sentiment Analysis Results:\n",
            "Positive: 3\n",
            "Negative: 3\n",
            "Neutral: 3\n"
          ]
        }
      ]
    },
    {
      "cell_type": "markdown",
      "source": [
        "11. Finding the Longest Words"
      ],
      "metadata": {
        "id": "hz4yHKep7nWw"
      }
    },
    {
      "cell_type": "markdown",
      "source": [
        "This code identifies and displays the top 10 longest distinct words:\n",
        "Removes duplicates from the list of words using distinct().\n",
        "Maps each word to its length by applying len(word).\n",
        "Sorts the words by their length in descending order using sortBy.\n",
        "Takes the top 10 longest words.\n",
        "Prints the top 10 longest words along with their lengths."
      ],
      "metadata": {
        "id": "HPYG7YlABq-A"
      }
    },
    {
      "cell_type": "code",
      "source": [
        "words = sc.parallelize(['happy', 'joyful', 'sad', 'angry', 'delightful', 'love', 'okay', 'extraordinary', 'hate', 'neutral'])\n",
        "\n",
        "longest_words = words.distinct() \\\n",
        "    .map(lambda word: (word, len(word))) \\\n",
        "    .sortBy(lambda x: x[1], ascending=False) \\\n",
        "    .take(10)\n",
        "\n",
        "print(\"Top 10 Longest Words:\")\n",
        "for word, length in longest_words:\n",
        "    print(f\"{word}: {length}\")\n"
      ],
      "metadata": {
        "colab": {
          "base_uri": "https://localhost:8080/"
        },
        "id": "5j0YrItN7pbo",
        "outputId": "56feac98-443e-4852-ad63-d186a6f01ac2"
      },
      "execution_count": 12,
      "outputs": [
        {
          "output_type": "stream",
          "name": "stdout",
          "text": [
            "Top 10 Longest Words:\n",
            "extraordinary: 13\n",
            "delightful: 10\n",
            "neutral: 7\n",
            "joyful: 6\n",
            "happy: 5\n",
            "angry: 5\n",
            "love: 4\n",
            "hate: 4\n",
            "okay: 4\n",
            "sad: 3\n"
          ]
        }
      ]
    },
    {
      "cell_type": "markdown",
      "source": [
        "12. Word Length Distribution (Histogram)"
      ],
      "metadata": {
        "id": "DAuS59A97sbr"
      }
    },
    {
      "cell_type": "markdown",
      "source": [
        "This code visualizes the distribution of word lengths:\n",
        "Maps each word to its length and collects the results in word_lengths.\n",
        "Creates a histogram using matplotlib, where the x-axis represents word lengths and the y-axis represents their frequency.\n",
        "Sets the number of bins in the histogram to cover all possible word lengths, with edges outlined in black and bars filled with a sky-blue color.\n",
        "Adds labels for the x-axis, y-axis, and a title to the plot.\n",
        "Displays the histogram using plt.show()."
      ],
      "metadata": {
        "id": "dWtnBijoBxc1"
      }
    },
    {
      "cell_type": "code",
      "source": [
        "word_lengths = words.map(lambda word: len(word)).collect()\n",
        "\n",
        "plt.hist(word_lengths, bins=range(1, max(word_lengths) + 2), edgecolor='black', color='skyblue')\n",
        "plt.xlabel('Word Length')\n",
        "plt.ylabel('Frequency')\n",
        "plt.title('Word Length Distribution')\n",
        "plt.show()\n"
      ],
      "metadata": {
        "colab": {
          "base_uri": "https://localhost:8080/",
          "height": 472
        },
        "id": "urRV9U2n7u4y",
        "outputId": "e002c4b5-789c-47db-9c65-eea806bc5964"
      },
      "execution_count": 13,
      "outputs": [
        {
          "output_type": "display_data",
          "data": {
            "text/plain": [
              "<Figure size 640x480 with 1 Axes>"
            ],
            "image/png": "[encoded data removed]"
          },
          "metadata": {}
        }
      ]
    },
    {
      "cell_type": "markdown",
      "source": [
        "13. Stop Words Filtering"
      ],
      "metadata": {
        "id": "l5ynyaer7yOa"
      }
    },
    {
      "cell_type": "markdown",
      "source": [
        "This code filters out common stop words and counts the remaining words:\n",
        "Converts all words to lowercase to ensure case-insensitive comparison.\n",
        "Filters out words that are present in the stop_words set.\n",
        "Maps the remaining words to a tuple (word, 1) for counting.\n",
        "Aggregates the word counts using reduceByKey.\n",
        "Takes the top 10 most frequent words and prints them along with their counts."
      ],
      "metadata": {
        "id": "4i_EgBRWB5YO"
      }
    },
    {
      "cell_type": "code",
      "source": [
        "stop_words = {'the', 'and', 'of', 'in', 'to', 'a', 'is', 'it', 'you', 'that'}\n",
        "filtered_words = words.map(lambda word: word.lower()) \\\n",
        "                      .filter(lambda word: word not in stop_words)\n",
        "\n",
        "filtered_word_counts = filtered_words.map(lambda word: (word, 1)) \\\n",
        "                                     .reduceByKey(lambda a, b: a + b)\n",
        "\n",
        "top_filtered_words = filtered_word_counts.take(10)\n",
        "\n",
        "print(\"Top 10 Words (Excluding Stop Words):\")\n",
        "for word, count in top_filtered_words:\n",
        "    print(f\"{word}: {count}\")\n"
      ],
      "metadata": {
        "id": "jF7via0270NU",
        "outputId": "63c9670f-79dd-46fd-8a39-32e3ce9a4aa2",
        "colab": {
          "base_uri": "https://localhost:8080/"
        }
      },
      "execution_count": 14,
      "outputs": [
        {
          "output_type": "stream",
          "name": "stdout",
          "text": [
            "Top 10 Words (Excluding Stop Words):\n",
            "joyful: 1\n",
            "sad: 1\n",
            "love: 1\n",
            "hate: 1\n",
            "happy: 1\n",
            "angry: 1\n",
            "delightful: 1\n",
            "okay: 1\n",
            "extraordinary: 1\n",
            "neutral: 1\n"
          ]
        }
      ]
    }
  ]
}